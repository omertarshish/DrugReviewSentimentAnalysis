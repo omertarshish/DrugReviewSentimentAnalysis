{
 "cells": [
  {
   "cell_type": "code",
   "execution_count": null,
   "id": "initial_id",
   "metadata": {
    "is_executing": true
   },
   "outputs": [],
   "source": [
    "from sklearn.model_selection import train_test_split\n",
    "import sys\n",
    "import torch\n",
    "sys.path.append('../')\n",
    "from src.model_trainer import load_bert_model, train_model\n",
    "\n",
    "# Split the data into training and validation sets\n",
    "def split_data(inputs_path, labels_path, subset_size=None, val_split=0.2):\n",
    "    inputs = torch.load(inputs_path)\n",
    "    labels = torch.load(labels_path)\n",
    "\n",
    "    if subset_size:\n",
    "        inputs = inputs[:subset_size]\n",
    "        labels = labels[:subset_size]\n",
    "\n",
    "    inputs_train, inputs_val, labels_train, labels_val = train_test_split(inputs, labels, test_size=val_split, random_state=42)\n",
    "\n",
    "    return inputs_train, inputs_val, labels_train, labels_val\n",
    "\n",
    "# Load the entire dataset\n",
    "subset_size = 2000\n",
    "train_inputs, val_inputs, train_labels_10class, val_labels_10class = split_data('../data/train_inputs.pt', '../data/train_labels.pt', subset_size=subset_size)\n",
    "_, _, train_labels_3class, val_labels_3class = split_data('../data/train_inputs.pt', '../data/train_labels_3class.pt', subset_size=subset_size)\n",
    "\n",
    "\n",
    "num_examples = len(train_inputs)\n",
    "print(\"Number of examples:\", num_examples)\n",
    "num_labels = len(train_labels_10class)\n",
    "print(\"Number of labels:\", num_labels)\n",
    "num_labels_3class = len(train_labels_3class)\n",
    "print(\"Number of 3-class labels:\", num_labels_3class)\n",
    "\n",
    "# Train the model for the 10-class problem\n",
    "model_10class = load_bert_model(num_labels=10)  # Assuming 10 classes\n",
    "model_10class = train_model(model_10class, train_inputs, train_labels_10class, val_inputs, val_labels_10class, 3, 16, 1e-5)\n",
    "\n",
    "# # Evaluate the model for the 10-class problem\n",
    "# evaluate_model(model_10class, val_inputs, val_labels_10class)\n",
    "\n",
    "# Save the trained models\n",
    "model_path_10class = '../models/model_10class_subset_2000.pth'\n",
    "torch.save(model_10class.state_dict(), model_path_10class)\n",
    "\n",
    "# Train the model for the 3-class problem\n",
    "model_3class = load_bert_model(num_labels=3)  # Assuming 3 classes\n",
    "model_3class = train_model(model_3class, train_inputs, train_labels_3class, val_inputs, val_labels_3class, 3, 16, 1e-5)\n",
    "\n",
    "# # Evaluate the model for the 3-class problem\n",
    "# evaluate_model(model_3class, val_inputs, val_labels_3class)\n",
    "\n",
    "\n",
    "model_path_3class = '../models/model_3class_subset_2000.pth'\n",
    "torch.save(model_3class.state_dict(), model_path_3class)"
   ]
  },
  {
   "cell_type": "code",
   "execution_count": null,
   "id": "ce9cf996-7e44-4fc1-b2ce-3b227cb548c5",
   "metadata": {},
   "outputs": [],
   "source": [
    "\n"
   ]
  }
 ],
 "metadata": {
  "kernelspec": {
   "display_name": "Python 3 (ipykernel)",
   "language": "python",
   "name": "python3"
  },
  "language_info": {
   "codemirror_mode": {
    "name": "ipython",
    "version": 3
   },
   "file_extension": ".py",
   "mimetype": "text/x-python",
   "name": "python",
   "nbconvert_exporter": "python",
   "pygments_lexer": "ipython3",
   "version": "3.9.13"
  }
 },
 "nbformat": 4,
 "nbformat_minor": 5
}
