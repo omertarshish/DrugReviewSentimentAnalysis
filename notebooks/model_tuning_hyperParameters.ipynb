{
 "cells": [
  {
   "cell_type": "code",
   "execution_count": null,
   "id": "573e46dd-0f78-4c7a-83fe-af7f47647868",
   "metadata": {},
   "outputs": [],
   "source": [
    "import sys\n",
    "sys.path.append('../')\n",
    "from src.model_trainer import load_bert_model, train_model\n",
    "import torch\n",
    "import optuna\n",
    "\n",
    "\n",
    "\n",
    "\n",
    "with open('../data/train_inputs.pt', 'rb') as f:\n",
    "    train_inputs = torch.load(f)\n",
    "with open('../data/train_labels.pt', 'rb') as f:\n",
    "    train_labels = torch.load(f)\n",
    "\n",
    "\n",
    "\n",
    "def objective(trial):\n",
    "    # Suggest values for the hyperparameters\n",
    "    num_epochs = trial.suggest_int('num_epochs', 1, 10)\n",
    "    batch_size = trial.suggest_categorical('batch_size', [16, 32, 64])\n",
    "    learning_rate = trial.suggest_loguniform('learning_rate', 1e-5, 1e-3)\n",
    "\n",
    "    # Train the model with these hyperparameters\n",
    "    model = load_bert_model(num_labels=10)\n",
    "    _, val_accuracy = train_model(model, train_inputs_split, train_labels_split, val_inputs_split, val_labels_split, num_epochs, batch_size, learning_rate)\n",
    "\n",
    "    # The objective is to maximize the validation accuracy\n",
    "    return val_accuracy\n",
    "\n",
    "study = optuna.create_study(direction='maximize')\n",
    "study.optimize(objective, n_trials=100)\n",
    "\n",
    "# Print the best hyperparameters\n",
    "print(study.best_params)\n",
    "\n"
   ]
  }
 ],
 "metadata": {
  "kernelspec": {
   "display_name": "Python 3 (ipykernel)",
   "language": "python",
   "name": "python3"
  },
  "language_info": {
   "codemirror_mode": {
    "name": "ipython",
    "version": 3
   },
   "file_extension": ".py",
   "mimetype": "text/x-python",
   "name": "python",
   "nbconvert_exporter": "python",
   "pygments_lexer": "ipython3",
   "version": "3.9.13"
  }
 },
 "nbformat": 4,
 "nbformat_minor": 5
}
