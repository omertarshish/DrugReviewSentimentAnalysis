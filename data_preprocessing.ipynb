{
 "cells": [
  {
   "cell_type": "code",
   "execution_count": 3,
   "id": "initial_id",
   "metadata": {
    "is_executing": true
   },
   "outputs": [],
   "source": [
    "import pandas as pd\n",
    "import torch\n",
    "\n",
    "# Function to preprocess text\n",
    "def preprocess_text(text):\n",
    "    text = text.lower()\n",
    "    text = text.replace('\\n', ' ')\n",
    "    text = text.strip()\n",
    "    return text\n",
    "\n",
    "# Load the data\n",
    "train_data = pd.read_csv('../data/drugsComTrain_raw.tsv', sep='\\t')\n",
    "test_data = pd.read_csv('../data/drugsComTest_raw.tsv', sep='\\t')\n",
    "\n",
    "# Define the percentage of data to sample\n",
    "sample_percentage = 1  # 1 means 100%\n",
    "\n",
    "# Sample the data\n",
    "train_data_sampled = train_data.sample(frac=sample_percentage, random_state=42)\n",
    "test_data_sampled = test_data.sample(frac=sample_percentage, random_state=42)\n",
    "\n",
    "# Preprocess the text data\n",
    "train_data_sampled['review'] = train_data_sampled['review'].apply(preprocess_text)\n",
    "test_data_sampled['review'] = test_data_sampled['review'].apply(preprocess_text)\n",
    "\n",
    "# Convert DataFrame to dictionary\n",
    "train_data_dict = train_data_sampled.to_dict(orient='list')\n",
    "test_data_dict = test_data_sampled.to_dict(orient='list')\n",
    "\n",
    "# Save the preprocessed data in PyTorch binary format\n",
    "torch.save(train_data_dict, '../data/train_data.pt')\n",
    "torch.save(test_data_dict, '../data/test_data.pt')"
   ]
  },
  {
   "cell_type": "code",
   "execution_count": null,
   "id": "82ea3388-7080-4841-9ac8-b80eb93e8f69",
   "metadata": {},
   "outputs": [],
   "source": []
  },
  {
   "cell_type": "code",
   "execution_count": null,
   "id": "3d4583a5-6611-4dc0-8396-89236a1bb131",
   "metadata": {},
   "outputs": [],
   "source": []
  }
 ],
 "metadata": {
  "kernelspec": {
   "display_name": "Python 3 (ipykernel)",
   "language": "python",
   "name": "python3"
  },
  "language_info": {
   "codemirror_mode": {
    "name": "ipython",
    "version": 3
   },
   "file_extension": ".py",
   "mimetype": "text/x-python",
   "name": "python",
   "nbconvert_exporter": "python",
   "pygments_lexer": "ipython3",
   "version": "3.9.13"
  }
 },
 "nbformat": 4,
 "nbformat_minor": 5
}
